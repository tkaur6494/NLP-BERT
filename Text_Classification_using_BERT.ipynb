{
  "nbformat": 4,
  "nbformat_minor": 0,
  "metadata": {
    "colab": {
      "name": "I_TRIPAT_KAUR.ipynb",
      "provenance": [],
      "collapsed_sections": []
    },
    "kernelspec": {
      "name": "python3",
      "display_name": "Python 3.9.4 64-bit"
    },
    "accelerator": "GPU",
    "language_info": {
      "name": "python",
      "version": "3.9.4",
      "mimetype": "text/x-python",
      "codemirror_mode": {
        "name": "ipython",
        "version": 3
      },
      "pygments_lexer": "ipython3",
      "nbconvert_exporter": "python",
      "file_extension": ".py"
    },
    "interpreter": {
      "hash": "6f7e51524697dc052bee5231b401d2a6ea79a5d8055a45497e3c950c8cf4a7c1"
    }
  },
  "cells": [
    {
      "cell_type": "markdown",
      "metadata": {
        "id": "OFOTiqrtNvyy"
      },
      "source": [
        "# Initial setup of project "
      ]
    },
    {
      "cell_type": "markdown",
      "metadata": {
        "id": "tWI5Z_WuVZbt"
      },
      "source": [
        "## Install Packages"
      ]
    },
    {
      "cell_type": "code",
      "metadata": {
        "id": "1hkhc10wNrGt",
        "colab": {
          "base_uri": "https://localhost:8080/"
        },
        "outputId": "44adca23-c560-47a6-97ef-4ab6e29ffe65"
      },
      "source": [
        "!pip install transformers==3.1.0\n",
        "!pip install numpy\n",
        "!pip install sklearn\n",
        "!pip install torch\n",
        "!pip install pandas\n",
        "!pip install matplotlib\n",
        "!pip install seaborn\n"
      ],
      "execution_count": null,
      "outputs": [
        {
          "output_type": "stream",
          "name": "stdout",
          "text": [
            "Requirement already satisfied: transformers==3.1.0 in /usr/local/lib/python3.7/dist-packages (3.1.0)\n",
            "Requirement already satisfied: filelock in /usr/local/lib/python3.7/dist-packages (from transformers==3.1.0) (3.0.12)\n",
            "Requirement already satisfied: packaging in /usr/local/lib/python3.7/dist-packages (from transformers==3.1.0) (21.0)\n",
            "Requirement already satisfied: tqdm>=4.27 in /usr/local/lib/python3.7/dist-packages (from transformers==3.1.0) (4.62.2)\n",
            "Requirement already satisfied: sacremoses in /usr/local/lib/python3.7/dist-packages (from transformers==3.1.0) (0.0.45)\n",
            "Requirement already satisfied: requests in /usr/local/lib/python3.7/dist-packages (from transformers==3.1.0) (2.23.0)\n",
            "Requirement already satisfied: tokenizers==0.8.1.rc2 in /usr/local/lib/python3.7/dist-packages (from transformers==3.1.0) (0.8.1rc2)\n",
            "Requirement already satisfied: numpy in /usr/local/lib/python3.7/dist-packages (from transformers==3.1.0) (1.19.5)\n",
            "Requirement already satisfied: sentencepiece!=0.1.92 in /usr/local/lib/python3.7/dist-packages (from transformers==3.1.0) (0.1.96)\n",
            "Requirement already satisfied: regex!=2019.12.17 in /usr/local/lib/python3.7/dist-packages (from transformers==3.1.0) (2019.12.20)\n",
            "Requirement already satisfied: pyparsing>=2.0.2 in /usr/local/lib/python3.7/dist-packages (from packaging->transformers==3.1.0) (2.4.7)\n",
            "Requirement already satisfied: certifi>=2017.4.17 in /usr/local/lib/python3.7/dist-packages (from requests->transformers==3.1.0) (2021.5.30)\n",
            "Requirement already satisfied: chardet<4,>=3.0.2 in /usr/local/lib/python3.7/dist-packages (from requests->transformers==3.1.0) (3.0.4)\n",
            "Requirement already satisfied: idna<3,>=2.5 in /usr/local/lib/python3.7/dist-packages (from requests->transformers==3.1.0) (2.10)\n",
            "Requirement already satisfied: urllib3!=1.25.0,!=1.25.1,<1.26,>=1.21.1 in /usr/local/lib/python3.7/dist-packages (from requests->transformers==3.1.0) (1.24.3)\n",
            "Requirement already satisfied: joblib in /usr/local/lib/python3.7/dist-packages (from sacremoses->transformers==3.1.0) (1.0.1)\n",
            "Requirement already satisfied: six in /usr/local/lib/python3.7/dist-packages (from sacremoses->transformers==3.1.0) (1.15.0)\n",
            "Requirement already satisfied: click in /usr/local/lib/python3.7/dist-packages (from sacremoses->transformers==3.1.0) (7.1.2)\n",
            "Requirement already satisfied: numpy in /usr/local/lib/python3.7/dist-packages (1.19.5)\n",
            "Requirement already satisfied: sklearn in /usr/local/lib/python3.7/dist-packages (0.0)\n",
            "Requirement already satisfied: scikit-learn in /usr/local/lib/python3.7/dist-packages (from sklearn) (0.22.2.post1)\n",
            "Requirement already satisfied: scipy>=0.17.0 in /usr/local/lib/python3.7/dist-packages (from scikit-learn->sklearn) (1.4.1)\n",
            "Requirement already satisfied: joblib>=0.11 in /usr/local/lib/python3.7/dist-packages (from scikit-learn->sklearn) (1.0.1)\n",
            "Requirement already satisfied: numpy>=1.11.0 in /usr/local/lib/python3.7/dist-packages (from scikit-learn->sklearn) (1.19.5)\n",
            "Requirement already satisfied: torch in /usr/local/lib/python3.7/dist-packages (1.9.0+cu102)\n",
            "Requirement already satisfied: typing-extensions in /usr/local/lib/python3.7/dist-packages (from torch) (3.7.4.3)\n",
            "Requirement already satisfied: pandas in /usr/local/lib/python3.7/dist-packages (1.1.5)\n",
            "Requirement already satisfied: pytz>=2017.2 in /usr/local/lib/python3.7/dist-packages (from pandas) (2018.9)\n",
            "Requirement already satisfied: python-dateutil>=2.7.3 in /usr/local/lib/python3.7/dist-packages (from pandas) (2.8.2)\n",
            "Requirement already satisfied: numpy>=1.15.4 in /usr/local/lib/python3.7/dist-packages (from pandas) (1.19.5)\n",
            "Requirement already satisfied: six>=1.5 in /usr/local/lib/python3.7/dist-packages (from python-dateutil>=2.7.3->pandas) (1.15.0)\n",
            "Requirement already satisfied: matplotlib in /usr/local/lib/python3.7/dist-packages (3.2.2)\n",
            "Requirement already satisfied: cycler>=0.10 in /usr/local/lib/python3.7/dist-packages (from matplotlib) (0.10.0)\n",
            "Requirement already satisfied: numpy>=1.11 in /usr/local/lib/python3.7/dist-packages (from matplotlib) (1.19.5)\n",
            "Requirement already satisfied: python-dateutil>=2.1 in /usr/local/lib/python3.7/dist-packages (from matplotlib) (2.8.2)\n",
            "Requirement already satisfied: kiwisolver>=1.0.1 in /usr/local/lib/python3.7/dist-packages (from matplotlib) (1.3.2)\n",
            "Requirement already satisfied: pyparsing!=2.0.4,!=2.1.2,!=2.1.6,>=2.0.1 in /usr/local/lib/python3.7/dist-packages (from matplotlib) (2.4.7)\n",
            "Requirement already satisfied: six in /usr/local/lib/python3.7/dist-packages (from cycler>=0.10->matplotlib) (1.15.0)\n",
            "Requirement already satisfied: seaborn in /usr/local/lib/python3.7/dist-packages (0.11.2)\n",
            "Requirement already satisfied: scipy>=1.0 in /usr/local/lib/python3.7/dist-packages (from seaborn) (1.4.1)\n",
            "Requirement already satisfied: matplotlib>=2.2 in /usr/local/lib/python3.7/dist-packages (from seaborn) (3.2.2)\n",
            "Requirement already satisfied: numpy>=1.15 in /usr/local/lib/python3.7/dist-packages (from seaborn) (1.19.5)\n",
            "Requirement already satisfied: pandas>=0.23 in /usr/local/lib/python3.7/dist-packages (from seaborn) (1.1.5)\n",
            "Requirement already satisfied: kiwisolver>=1.0.1 in /usr/local/lib/python3.7/dist-packages (from matplotlib>=2.2->seaborn) (1.3.2)\n",
            "Requirement already satisfied: pyparsing!=2.0.4,!=2.1.2,!=2.1.6,>=2.0.1 in /usr/local/lib/python3.7/dist-packages (from matplotlib>=2.2->seaborn) (2.4.7)\n",
            "Requirement already satisfied: cycler>=0.10 in /usr/local/lib/python3.7/dist-packages (from matplotlib>=2.2->seaborn) (0.10.0)\n",
            "Requirement already satisfied: python-dateutil>=2.1 in /usr/local/lib/python3.7/dist-packages (from matplotlib>=2.2->seaborn) (2.8.2)\n",
            "Requirement already satisfied: six in /usr/local/lib/python3.7/dist-packages (from cycler>=0.10->matplotlib>=2.2->seaborn) (1.15.0)\n",
            "Requirement already satisfied: pytz>=2017.2 in /usr/local/lib/python3.7/dist-packages (from pandas>=0.23->seaborn) (2018.9)\n"
          ]
        }
      ]
    },
    {
      "cell_type": "markdown",
      "metadata": {
        "id": "0DR1LbK9VZbw"
      },
      "source": [
        "## Import Modules"
      ]
    },
    {
      "cell_type": "code",
      "metadata": {
        "id": "x4giRzM7NtHJ"
      },
      "source": [
        "import numpy as np\n",
        "import pandas as pd\n",
        "import torch\n",
        "import torch.nn as nn\n",
        "import matplotlib.pyplot as plt\n",
        "from sklearn.model_selection import train_test_split\n",
        "from sklearn.metrics import classification_report,plot_confusion_matrix\n",
        "from transformers import AutoModel, BertTokenizerFast,AdamW,BertForSequenceClassification\n",
        "from torch.utils.data import TensorDataset, DataLoader\n",
        "from sklearn.utils.class_weight import compute_class_weight\n",
        "import seaborn as sn"
      ],
      "execution_count": null,
      "outputs": []
    },
    {
      "cell_type": "markdown",
      "metadata": {
        "id": "6EvJGNrhVZbx"
      },
      "source": [
        "## Setup global variables needed"
      ]
    },
    {
      "cell_type": "code",
      "metadata": {
        "id": "AlSKrBBSVZbx"
      },
      "source": [
        "device = 'cuda' if torch.cuda.is_available() else 'cpu'\n",
        "batch_size = 32\n",
        "looper = 10"
      ],
      "execution_count": null,
      "outputs": []
    },
    {
      "cell_type": "markdown",
      "metadata": {
        "id": "Y8RiXMGoVZby"
      },
      "source": [
        "# Importing pre-trained BERT model"
      ]
    },
    {
      "cell_type": "markdown",
      "metadata": {
        "id": "g_kPpMf1VZby"
      },
      "source": [
        "* Using BERT based multilingual model to handle the different languages present in the dataset. It supports 104 languages.\n",
        "* BERT Tokenizer converts sentences into small tokens of words and passes that to an encoder.\n",
        "* Make Require_grad as false to avoid changes to original model"
      ]
    },
    {
      "cell_type": "code",
      "metadata": {
        "id": "yF4AN7QDVZbz"
      },
      "source": [
        "bert = AutoModel.from_pretrained('bert-base-multilingual-cased')\n",
        "tokenizer = BertTokenizerFast.from_pretrained('bert-base-multilingual-cased')"
      ],
      "execution_count": null,
      "outputs": []
    },
    {
      "cell_type": "markdown",
      "metadata": {
        "id": "imc5Xm-nVZbz"
      },
      "source": [
        "`We don't want to make any changes to original bert model, hence we will set requires_grad to False. It will acts as a base model`"
      ]
    },
    {
      "cell_type": "code",
      "metadata": {
        "id": "P1WE8LD1VZbz"
      },
      "source": [
        "for param in bert.parameters():\n",
        "    param.requires_grad = False"
      ],
      "execution_count": null,
      "outputs": []
    },
    {
      "cell_type": "markdown",
      "metadata": {
        "id": "ySLFGMJcVZb0"
      },
      "source": [
        "# Load Dataset"
      ]
    },
    {
      "cell_type": "markdown",
      "metadata": {
        "id": "v6a3JDLgVZb0"
      },
      "source": [
        "`Loading the dataset created. The datafiles have been combined into a single JSON file comprising of text and the corresponding meta data category.`\n",
        "* Load data\n",
        "* Factorize (convert categories/labels to incremental integers) catgeory column\n",
        "* Convert text to lowercase (as we are using uncased bert model)\n",
        "* Sampling the records\n",
        "* Counting the total number of unique categories in the sampled dataset"
      ]
    },
    {
      "cell_type": "code",
      "metadata": {
        "id": "xuySvlScfoff"
      },
      "source": [
        "df = pd.read_json(\"sample_data.json\")\n",
        "df[\"category\"] = pd.factorize(df.label)[0]\n",
        "df[\"text\"] = df[\"text\"].str.lower()\n",
        "df = df.sample(n=35000)\n",
        "number_of_classes = len(df['label'].value_counts(normalize = True))"
      ],
      "execution_count": null,
      "outputs": []
    },
    {
      "cell_type": "markdown",
      "metadata": {
        "id": "1SpjAI3DVZb1"
      },
      "source": [
        "## Analysing dataset"
      ]
    },
    {
      "cell_type": "code",
      "metadata": {
        "id": "qCDckJn3VZb1",
        "colab": {
          "base_uri": "https://localhost:8080/",
          "height": 374
        },
        "outputId": "22995aa2-845f-46ef-d34f-c7c3ae382572"
      },
      "source": [
        "df.head()\n",
        "df.groupby(\"label\")[\"text\"].count().plot(kind=\"bar\")\n",
        "plt.show()"
      ],
      "execution_count": null,
      "outputs": [
        {
          "output_type": "display_data",
          "data": {
            "image/png": "[encoded data removed]",
            "text/plain": [
              "<Figure size 432x288 with 1 Axes>"
            ]
          },
          "metadata": {}
        }
      ]
    },
    {
      "cell_type": "markdown",
      "metadata": {
        "id": "f_d1Gh8RVZb1"
      },
      "source": [
        "# Divide the dataset into training, testing and validation subsets"
      ]
    },
    {
      "cell_type": "markdown",
      "metadata": {
        "id": "IbLtoqnQVZb1"
      },
      "source": [
        "`Dividing the dataset into training and temporary datasets with a ratio of 70 and 30 respectively. Further the temporary dataset is divided into equal parts for testing and validation purposes.`"
      ]
    },
    {
      "cell_type": "code",
      "metadata": {
        "id": "mfhSPF5jOWb7"
      },
      "source": [
        "training_data, temporary_data, training_category, temporary_category = train_test_split(df['text'], df['category'], \n",
        "                                                                    random_state=100, \n",
        "                                                                    test_size=0.3)\n",
        "\n",
        "validation_data, test_data, validation_category, testing_category = train_test_split(temporary_data, temporary_category, \n",
        "                                                                random_state=100, \n",
        "                                                                test_size=0.5)"
      ],
      "execution_count": null,
      "outputs": []
    },
    {
      "cell_type": "markdown",
      "metadata": {
        "id": "8wIYaWI_Prg8"
      },
      "source": [
        "# Identifying the value of max_seq_length parameter for BERT"
      ]
    },
    {
      "cell_type": "markdown",
      "metadata": {
        "id": "yvCy55M5VZb2"
      },
      "source": [
        "`Looking at the lenght of the sentences in the training data to decide the maximum length sequence to be used by BERT. This will be used by the model to create equal fixed sized tokens which will be used by the encoder.`\n",
        "\n",
        "* Maximum sequence length has been calculated by taking the average length of all sentences plus a buffer of 20."
      ]
    },
    {
      "cell_type": "code",
      "metadata": {
        "id": "yKwbpeN_PMiu",
        "colab": {
          "base_uri": "https://localhost:8080/",
          "height": 267
        },
        "outputId": "efb8929a-afe3-47c8-f5ef-5cbd5d52a001"
      },
      "source": [
        "sentence_length = [len(i.split()) for i in training_data]\n",
        "pd.Series([len(i.split()) for i in training_data]).plot(kind=\"hist\",bins = 30,rwidth=0.8)\n",
        "\n",
        "max_seq_len = int(sum(sentence_length)/len(sentence_length)) + 20"
      ],
      "execution_count": null,
      "outputs": [
        {
          "output_type": "display_data",
          "data": {
            "image/png": "[encoded data removed]",
            "text/plain": [
              "<Figure size 432x288 with 1 Axes>"
            ]
          },
          "metadata": {}
        }
      ]
    },
    {
      "cell_type": "markdown",
      "metadata": {
        "id": "G_5pK0CdVZb3"
      },
      "source": [
        "# Tokenize the input dataset (Training, Validation, Test)"
      ]
    },
    {
      "cell_type": "markdown",
      "metadata": {
        "id": "Idv2Gus7VZb3"
      },
      "source": [
        "`Creating tokens and encoding them using BERT tokenizer for training, validation and testing datasets.`"
      ]
    },
    {
      "cell_type": "code",
      "metadata": {
        "id": "tk5S7DWaP2t6"
      },
      "source": [
        "training_data_tokens = tokenizer.batch_encode_plus(\n",
        "    training_data.tolist(),\n",
        "    max_length = max_seq_len,\n",
        "    padding=True,\n",
        "    truncation=True,\n",
        "    return_token_type_ids=False\n",
        ")\n",
        "\n",
        "testing_data_tokens = tokenizer.batch_encode_plus(\n",
        "    test_data.tolist(),\n",
        "    max_length = max_seq_len,\n",
        "    padding=True,\n",
        "    truncation=True,\n",
        "    return_token_type_ids=False\n",
        ")\n",
        "\n",
        "validation_data_tokens = tokenizer.batch_encode_plus(\n",
        "    validation_data.tolist(),\n",
        "    max_length = max_seq_len,\n",
        "    padding=True,\n",
        "    truncation=True,\n",
        "    return_token_type_ids=False\n",
        ")\n"
      ],
      "execution_count": null,
      "outputs": []
    },
    {
      "cell_type": "markdown",
      "metadata": {
        "id": "Wsm8bkRZQTw9"
      },
      "source": [
        "# Generate multi-dimensional matrix containing elements of a single data type using Torch Tensor "
      ]
    },
    {
      "cell_type": "code",
      "metadata": {
        "id": "QR-lXwmzQPd6"
      },
      "source": [
        "training_sequence = torch.tensor(training_data_tokens['input_ids'])\n",
        "training_maskings = torch.tensor(training_data_tokens['attention_mask'])\n",
        "training_cat = torch.tensor(training_category.tolist())\n",
        "\n",
        "validation_sequence = torch.tensor(validation_data_tokens['input_ids'])\n",
        "validation_masks = torch.tensor(validation_data_tokens['attention_mask'])\n",
        "validation_cat = torch.tensor(validation_category.tolist())\n",
        "\n",
        "testing_sequence = torch.tensor(testing_data_tokens['input_ids'])\n",
        "testing_masks = torch.tensor(testing_data_tokens['attention_mask'])\n",
        "testing_cat = torch.tensor(testing_category.tolist())"
      ],
      "execution_count": null,
      "outputs": []
    },
    {
      "cell_type": "markdown",
      "metadata": {
        "id": "Ov1cOBlcRLuk"
      },
      "source": [
        "# Create DataLoaders"
      ]
    },
    {
      "cell_type": "code",
      "metadata": {
        "id": "5teB1iL_VZb4"
      },
      "source": [
        " # wrap tensors\n",
        "train_data = TensorDataset(training_sequence, training_maskings, training_cat)\n",
        "train_dataloader = DataLoader(train_data, batch_size=batch_size, shuffle=True)\n",
        "val_data = TensorDataset(validation_sequence, validation_masks, validation_cat)\n",
        "val_dataloader = DataLoader(val_data, batch_size=batch_size, shuffle=True)"
      ],
      "execution_count": null,
      "outputs": []
    },
    {
      "cell_type": "markdown",
      "metadata": {
        "id": "s7ahGBUWRi3X"
      },
      "source": [
        "# Define Model Custom class"
      ]
    },
    {
      "cell_type": "code",
      "metadata": {
        "id": "b3iEtGyYRd0A"
      },
      "source": [
        "class BertModelCustomClass(nn.Module):\n",
        "\n",
        "    def __init__(self, bert):\n",
        "      \n",
        "      super(BertModelCustomClass, self).__init__()\n",
        "\n",
        "      self.bert = bert \n",
        "      \n",
        "      # dropout layer\n",
        "      self.dropout = nn.Dropout(0.1)\n",
        "      \n",
        "      # relu activation function\n",
        "      self.relu =  nn.ReLU()\n",
        "\n",
        "      # dense layer 1\n",
        "      self.fc1 = nn.Linear(768,512)\n",
        "      \n",
        "      # dense layer 2 (Output layer)\n",
        "      self.fc2 = nn.Linear(512,number_of_classes)\n",
        "\n",
        "      #softmax activation function\n",
        "      self.softmax = nn.LogSoftmax(dim=1)\n",
        "\n",
        "    #define the forward pass\n",
        "    def forward(self, sent_id, mask):\n",
        "\n",
        "      #pass the inputs to the model  \n",
        "      _, cls_hs = self.bert(sent_id, attention_mask=mask)\n",
        "      \n",
        "      x = self.fc1(cls_hs)\n",
        "\n",
        "      x = self.relu(x)\n",
        "\n",
        "      x = self.dropout(x)\n",
        "\n",
        "      # output layer\n",
        "      x = self.fc2(x)\n",
        "      \n",
        "      # apply softmax activation\n",
        "      x = self.softmax(x)\n",
        "\n",
        "      return x"
      ],
      "execution_count": null,
      "outputs": []
    },
    {
      "cell_type": "markdown",
      "metadata": {
        "id": "oHgtreGlZYiw"
      },
      "source": [
        "# Create Model\n",
        "* Pass BERT pretrained model to custom Class (BertModelCustomClass)\n",
        "* Push Model to GPU\n",
        "* Create Optimizer for model using AdamW"
      ]
    },
    {
      "cell_type": "code",
      "metadata": {
        "id": "cBAJJVuJRliv"
      },
      "source": [
        "model = BertModelCustomClass(bert)\n",
        "model = model.to(device)\n",
        "optimizer = AdamW(model.parameters(), lr = 1e-3)"
      ],
      "execution_count": null,
      "outputs": []
    },
    {
      "cell_type": "markdown",
      "metadata": {
        "id": "j9CDpoMQR_rK"
      },
      "source": [
        "# Initiliaze weights and convert it into Multi Dimensional matrix array."
      ]
    },
    {
      "cell_type": "code",
      "metadata": {
        "id": "r1WvfY2vSGKi"
      },
      "source": [
        "class_wts = compute_class_weight('balanced', np.unique(training_category), training_category)\n",
        "weights= torch.tensor(class_wts,dtype=torch.float)\n",
        "weights = weights.to(device)\n",
        "cross_entropy  = nn.NLLLoss(weight=weights) "
      ],
      "execution_count": null,
      "outputs": []
    },
    {
      "cell_type": "markdown",
      "metadata": {
        "id": "My4CA0qaShLq"
      },
      "source": [
        "# Create Training and Evaluation steps"
      ]
    },
    {
      "cell_type": "code",
      "metadata": {
        "id": "rskLk8R_SahS"
      },
      "source": [
        "class Modeler():\n",
        "  def train(self):\n",
        "    model.train()\n",
        "    total_loss=0\n",
        "    total_preds=[]\n",
        "    \n",
        "    # iterate over batches\n",
        "    for _,batch in enumerate(train_dataloader):\n",
        "      # push the batch to gpu\n",
        "      batch = [r.to(device) for r in batch]\n",
        "      sent_id, mask, labels = batch\n",
        "      model.zero_grad()        \n",
        "      preds = model(sent_id, mask)\n",
        "      loss = cross_entropy(preds, labels)\n",
        "\n",
        "      # add on to the total loss\n",
        "      total_loss = total_loss + loss.item()\n",
        "\n",
        "      # backward pass to calculate the gradients\n",
        "      loss.backward()\n",
        "\n",
        "      # clip the the gradients to 1.0. It helps in preventing the exploding gradient problem\n",
        "      torch.nn.utils.clip_grad_norm_(model.parameters(), 1.0)\n",
        "\n",
        "      # update parameters\n",
        "      optimizer.step()\n",
        "\n",
        "      # model predictions are stored on GPU. So, push it to CPU\n",
        "      preds=preds.detach().cpu().numpy()\n",
        "\n",
        "      # append the model predictions\n",
        "      total_preds.append(preds)\n",
        "\n",
        "    # compute the training loss of the epoch\n",
        "    avg_loss = total_loss / len(train_dataloader)\n",
        "    \n",
        "    # predictions are in the form of (no. of batches, size of batch, no. of classes).\n",
        "    # reshape the predictions in form of (number of samples, no. of classes)\n",
        "    total_preds  = np.concatenate(total_preds, axis=0)\n",
        "\n",
        "    #returns the loss and predictions\n",
        "    return avg_loss\n",
        "\n",
        "  # function for evaluating the model\n",
        "  def evaluate(self):\n",
        "    # deactivate dropout layers\n",
        "    model.eval()\n",
        "\n",
        "    total_loss, total_accuracy = 0, 0\n",
        "    \n",
        "    # empty list to save the model predictions\n",
        "    total_preds = []\n",
        "\n",
        "    # iterate over batches\n",
        "    for _,batch in enumerate(val_dataloader):\n",
        "    \n",
        "      # push the batch to gpu\n",
        "      batch = [t.to(device) for t in batch]\n",
        "\n",
        "      sent_id, mask, labels = batch\n",
        "\n",
        "      # deactivate autograd\n",
        "      with torch.no_grad():\n",
        "        \n",
        "        # model predictions\n",
        "        preds = model(sent_id, mask)\n",
        "\n",
        "        # compute the validation loss between actual and predicted values\n",
        "        loss = cross_entropy(preds,labels)\n",
        "\n",
        "        total_loss = total_loss + loss.item()\n",
        "\n",
        "        preds = preds.detach().cpu().numpy()\n",
        "\n",
        "        total_preds.append(preds)\n",
        "\n",
        "    # compute the validation loss of the epoch\n",
        "    avg_loss = total_loss / len(val_dataloader) \n",
        "\n",
        "    # reshape the predictions in form of (number of samples, no. of classes)\n",
        "    total_preds  = np.concatenate(total_preds, axis=0)\n",
        "\n",
        "    return avg_loss"
      ],
      "execution_count": null,
      "outputs": []
    },
    {
      "cell_type": "markdown",
      "metadata": {
        "id": "9KZEgxRRTLXG"
      },
      "source": [
        "# Start Model Training"
      ]
    },
    {
      "cell_type": "code",
      "metadata": {
        "id": "k1USGTntS3TS",
        "colab": {
          "base_uri": "https://localhost:8080/"
        },
        "outputId": "1242a9c0-ab4c-44b5-a96b-088ed85192b9"
      },
      "source": [
        "temp = float('inf')\n",
        "trainer=Modeler();\n",
        "#for each epoch\n",
        "for i in range(looper):\n",
        "     \n",
        "    print(f'Loop {i+1} out of {looper}')\n",
        "    \n",
        "    #train model\n",
        "    training_loss = trainer.train()\n",
        "    validation_loss = trainer.evaluate()\n",
        "    \n",
        "    #save the best model\n",
        "    if validation_loss < temp:\n",
        "        temp = validation_loss\n",
        "        torch.save(model.state_dict(), 'trained_model.model')\n",
        "    \n",
        "    print(f'Training Loss: {training_loss:.3f}')\n",
        "    print(f'Validation Loss: {validation_loss:.3f}\\n\\n')"
      ],
      "execution_count": null,
      "outputs": [
        {
          "output_type": "stream",
          "name": "stdout",
          "text": [
            "Loop 1 out of 10\n",
            "Training Loss: 1.789\n",
            "Validation Loss: 1.375\n",
            "\n",
            "\n",
            "Loop 2 out of 10\n",
            "Training Loss: 1.463\n",
            "Validation Loss: 1.310\n",
            "\n",
            "\n",
            "Loop 3 out of 10\n",
            "Training Loss: 1.369\n",
            "Validation Loss: 1.184\n",
            "\n",
            "\n",
            "Loop 4 out of 10\n",
            "Training Loss: 1.306\n",
            "Validation Loss: 1.106\n",
            "\n",
            "\n",
            "Loop 5 out of 10\n",
            "Training Loss: 1.260\n",
            "Validation Loss: 1.213\n",
            "\n",
            "\n",
            "Loop 6 out of 10\n",
            "Training Loss: 1.229\n",
            "Validation Loss: 1.041\n",
            "\n",
            "\n",
            "Loop 7 out of 10\n",
            "Training Loss: 1.192\n",
            "Validation Loss: 1.001\n",
            "\n",
            "\n",
            "Loop 8 out of 10\n",
            "Training Loss: 1.178\n",
            "Validation Loss: 0.947\n",
            "\n",
            "\n",
            "Loop 9 out of 10\n",
            "Training Loss: 1.162\n",
            "Validation Loss: 1.012\n",
            "\n",
            "\n",
            "Loop 10 out of 10\n",
            "Training Loss: 1.142\n",
            "Validation Loss: 0.945\n",
            "\n",
            "\n"
          ]
        }
      ]
    },
    {
      "cell_type": "markdown",
      "metadata": {
        "id": "_yrhUc9kTI5a"
      },
      "source": [
        "# Predict"
      ]
    },
    {
      "cell_type": "markdown",
      "metadata": {
        "id": "LhL0odOJkyMI"
      },
      "source": [
        "## Load Model"
      ]
    },
    {
      "cell_type": "code",
      "metadata": {
        "id": "OacxUyizS8d1",
        "colab": {
          "base_uri": "https://localhost:8080/"
        },
        "outputId": "14345111-f292-4458-a15e-ee5045d7dfa6"
      },
      "source": [
        "path = 'trained_model.model'\n",
        "torch.load(path,map_location=torch.device(device))\n",
        "model.load_state_dict(torch.load(path))"
      ],
      "execution_count": null,
      "outputs": [
        {
          "output_type": "execute_result",
          "data": {
            "text/plain": [
              "<All keys matched successfully>"
            ]
          },
          "metadata": {},
          "execution_count": 322
        }
      ]
    },
    {
      "cell_type": "markdown",
      "metadata": {
        "id": "x4SVftkkTZXA"
      },
      "source": [
        "## Predict for test data"
      ]
    },
    {
      "cell_type": "code",
      "metadata": {
        "id": "NZl0SZmFTRQA"
      },
      "source": [
        "# get predictions for test data\n",
        "with torch.no_grad():\n",
        "  preds = model(testing_sequence.to(device), testing_masks.to(device))\n",
        "  preds = preds.detach().cpu().numpy()\n",
        "preds = np.argmax(preds, axis = 1)"
      ],
      "execution_count": null,
      "outputs": []
    },
    {
      "cell_type": "markdown",
      "metadata": {
        "id": "t-lGZHGqlALW"
      },
      "source": [
        "## Analyse prediction"
      ]
    },
    {
      "cell_type": "code",
      "metadata": {
        "id": "xcaDoOlZlvtK",
        "colab": {
          "base_uri": "https://localhost:8080/"
        },
        "outputId": "71e3d825-abf4-43c4-a9a9-f991bb6e248e"
      },
      "source": [
        "report = classification_report(testing_cat, preds,target_names=df.label.unique())"
      ],
      "execution_count": null,
      "outputs": [
        {
          "output_type": "stream",
          "name": "stderr",
          "text": [
            "/usr/local/lib/python3.7/dist-packages/sklearn/metrics/_classification.py:1272: UndefinedMetricWarning: Precision and F-score are ill-defined and being set to 0.0 in labels with no predicted samples. Use `zero_division` parameter to control this behavior.\n",
            "  _warn_prf(average, modifier, msg_start, len(result))\n"
          ]
        }
      ]
    },
    {
      "cell_type": "code",
      "metadata": {
        "id": "TgGYHaUpoJ4j"
      },
      "source": [
        "def plot_classification_report(cr, cmap=plt.cm.Blues):\n",
        "    print(cr)\n",
        "    lines = cr.split('\\n')\n",
        "    classes = []\n",
        "    plotMat = []\n",
        "    for line in lines[2 : (len(lines) - 3)]:\n",
        "        t = line.split()\n",
        "        if(len(t)>3):\n",
        "          t.reverse()\n",
        "          plotMat.append([float(t[2]),float(t[1]),float(t[0])])\n",
        "          cls=t[4:]\n",
        "          cls.reverse()\n",
        "          classes.append(' '.join(cls))\n",
        "    fig = plt.figure(figsize=(10, 10))\n",
        "    plt.imshow(plotMat, interpolation='nearest', cmap=cmap, origin=\"lower\")\n",
        "    plt.title('Classification report')\n",
        "    plt.colorbar()\n",
        "    x_tick_marks = np.arange(3)\n",
        "    y_tick_marks = np.arange(len(classes))\n",
        "    plt.xticks(x_tick_marks, ['precision', 'recall', 'f1-score'], rotation=45)\n",
        "    plt.yticks(y_tick_marks, classes)\n",
        "    plt.ylabel('Classes')\n",
        "    plt.xlabel('Measures')\n",
        "def plot_confusion_report(cr):\n",
        "  print(cr)\n",
        "  df_cm = pd.DataFrame(cr, range(number_of_classes-1), range(number_of_classes-1))\n",
        "  sn.set(font_scale=0.8)\n",
        "  fig = plt.figure(figsize=(10, 10))\n",
        "  sn.heatmap(df_cm, annot=True, fmt='.3g', annot_kws={\"size\": 13}) # font size\n",
        "  plt.show()\n"
      ],
      "execution_count": null,
      "outputs": []
    },
    {
      "cell_type": "code",
      "metadata": {
        "colab": {
          "base_uri": "https://localhost:8080/",
          "height": 952
        },
        "id": "z6B9jeVwoJbq",
        "outputId": "0f690843-e0d7-4541-9c9d-4c0c4242ad08"
      },
      "source": [
        "plot_classification_report(report)"
      ],
      "execution_count": null,
      "outputs": [
        {
          "output_type": "stream",
          "name": "stdout",
          "text": [
            "                        precision    recall  f1-score   support\n",
            "\n",
            "   Secondary Education       0.83      0.73      0.78       988\n",
            "            Publishing       0.79      0.53      0.64      1191\n",
            "Social (Family & Home)       0.80      0.58      0.67       798\n",
            "              Security       0.23      0.66      0.34       129\n",
            "            Healthcare       0.95      0.92      0.94       560\n",
            "        Transportation       0.58      0.97      0.72       158\n",
            "             Financial       0.46      0.21      0.29        87\n",
            "             Insurance       0.68      0.95      0.79       125\n",
            "                Energy       0.15      0.78      0.25        55\n",
            "      Higher Education       0.13      0.35      0.19       106\n",
            "            Government       0.00      0.00      0.00         3\n",
            "\n",
            "              accuracy                           0.66      4200\n",
            "             macro avg       0.51      0.61      0.51      4200\n",
            "          weighted avg       0.76      0.66      0.69      4200\n",
            "\n"
          ]
        },
        {
          "output_type": "display_data",
          "data": {
            "image/png": "[encoded data removed]",
            "text/plain": [
              "<Figure size 720x720 with 2 Axes>"
            ]
          },
          "metadata": {}
        }
      ]
    },
    {
      "cell_type": "code",
      "metadata": {
        "id": "YqzLS7rHTp4T",
        "colab": {
          "base_uri": "https://localhost:8080/",
          "height": 814
        },
        "outputId": "7d59b62c-4303-4107-dab4-55151926fe2c"
      },
      "source": [
        "plot_confusion_report(pd.crosstab(testing_cat, preds))"
      ],
      "execution_count": null,
      "outputs": [
        {
          "output_type": "stream",
          "name": "stdout",
          "text": [
            "col_0    0    1    2    3    4    5   6    7    8   9\n",
            "row_0                                                \n",
            "0      717   74   55   36    1    1   1    5   43  55\n",
            "1       91  635   42  145    9   65  11   21  102  70\n",
            "2       37   58  462   35   11   26   4   13   59  93\n",
            "3        3    8    5   85    3    4   1    1   15   4\n",
            "4        0   11    0   14  517    2   1    8    0   7\n",
            "5        0    2    0    1    0  154   0    1    0   0\n",
            "6        1    5    1   35    1    4  18    7   12   3\n",
            "7        0    2    0    2    0    1   0  119    0   1\n",
            "8        2    3    0    4    0    0   0    0   43   3\n",
            "9        7    8   14   15    2   10   3    1    9  37\n",
            "10       1    0    0    0    0    0   0    0    0   2\n"
          ]
        },
        {
          "output_type": "display_data",
          "data": {
            "image/png": "[encoded data removed]",
            "text/plain": [
              "<Figure size 720x720 with 2 Axes>"
            ]
          },
          "metadata": {}
        }
      ]
    }
  ]
}